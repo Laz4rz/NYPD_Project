{
 "cells": [
  {
   "cell_type": "markdown",
   "id": "ee359e7e-d19c-4ae5-bc33-f53708cfc547",
   "metadata": {},
   "source": [
    "### JST Analysis\n",
    "Biblioteka została stworzona w celu analizowania i czyszczenia danych pochodzących z arkuszów populacji oraz dochodów Jednostek Samorządu Terytorialnego udostępnianych na stronach rządowych. \n",
    "\n",
    "Dochody:\n",
    "https://www.gov.pl/web/finanse/udzialy-za-2020-r\n",
    "Populacja:\n",
    "https://stat.gov.pl/obszary-tematyczne/ludnosc/ludnosc/ludnosc-stan-i-struktura-ludnosci-oraz-ruch-naturalny-w-przekroju-terytorialnym-stan-w-dniu-31-12-2020,6,29.html"
   ]
  },
  {
   "cell_type": "markdown",
   "id": "e971ef0c-b636-4304-8805-96d1367e624c",
   "metadata": {},
   "source": [
    "#### Instalowanie biblioteki\n",
    "Bibliotekę można zainstalować pobierając plik .whl z repozytorium oraz wywołując ```pip package_path```. "
   ]
  },
  {
   "cell_type": "code",
   "execution_count": 22,
   "id": "a98bfe2f-e511-44f8-9642-23f472f5628a",
   "metadata": {},
   "outputs": [
    {
     "name": "stdout",
     "output_type": "stream",
     "text": [
      "Processing c:\\users\\szant\\jst\\jst_analysis-0.0.3-py3-none-any.whl\n",
      "Requirement already satisfied: xlrd==2.0.1 in c:\\users\\szant\\appdata\\local\\programs\\python\\python39-32\\lib\\site-packages (from JST-analysis==0.0.3) (2.0.1)\n",
      "Requirement already satisfied: tqdm~=4.62.3 in c:\\users\\szant\\appdata\\local\\programs\\python\\python39-32\\lib\\site-packages (from JST-analysis==0.0.3) (4.62.3)\n"
     ]
    },
    {
     "name": "stderr",
     "output_type": "stream",
     "text": [
      "WARNING: You are using pip version 21.2.3; however, version 22.0.3 is available.\n",
      "You should consider upgrading via the 'C:\\Users\\szant\\AppData\\Local\\Programs\\Python\\Python39-32\\python.exe -m pip install --upgrade pip' command.\n"
     ]
    },
    {
     "name": "stdout",
     "output_type": "stream",
     "text": [
      "Requirement already satisfied: numpy==1.22.2 in c:\\users\\szant\\appdata\\local\\programs\\python\\python39-32\\lib\\site-packages (from JST-analysis==0.0.3) (1.22.2)\n",
      "Requirement already satisfied: pandas==1.4.0 in c:\\users\\szant\\appdata\\local\\programs\\python\\python39-32\\lib\\site-packages (from JST-analysis==0.0.3) (1.4.0)\n",
      "Requirement already satisfied: openpyxl==3.0.9 in c:\\users\\szant\\appdata\\local\\programs\\python\\python39-32\\lib\\site-packages (from JST-analysis==0.0.3) (3.0.9)\n",
      "Requirement already satisfied: et-xmlfile in c:\\users\\szant\\appdata\\local\\programs\\python\\python39-32\\lib\\site-packages (from openpyxl==3.0.9->JST-analysis==0.0.3) (1.1.0)\n",
      "Requirement already satisfied: python-dateutil>=2.8.1 in c:\\users\\szant\\appdata\\local\\programs\\python\\python39-32\\lib\\site-packages (from pandas==1.4.0->JST-analysis==0.0.3) (2.8.2)\n",
      "Requirement already satisfied: pytz>=2020.1 in c:\\users\\szant\\appdata\\local\\programs\\python\\python39-32\\lib\\site-packages (from pandas==1.4.0->JST-analysis==0.0.3) (2021.3)\n",
      "Requirement already satisfied: six>=1.5 in c:\\users\\szant\\appdata\\local\\programs\\python\\python39-32\\lib\\site-packages (from python-dateutil>=2.8.1->pandas==1.4.0->JST-analysis==0.0.3) (1.16.0)\n",
      "Requirement already satisfied: colorama in c:\\users\\szant\\appdata\\local\\programs\\python\\python39-32\\lib\\site-packages (from tqdm~=4.62.3->JST-analysis==0.0.3) (0.4.4)\n",
      "JST-analysis is already installed with the same version as the provided wheel. Use --force-reinstall to force an installation of the wheel.\n"
     ]
    }
   ],
   "source": [
    "!pip install JST_analysis-0.0.3-py3-none-any.whl"
   ]
  },
  {
   "cell_type": "markdown",
   "id": "fb741f06-9133-4eaa-baa7-d67703368b4b",
   "metadata": {},
   "source": [
    "#### Importowanie i ścieżki"
   ]
  },
  {
   "cell_type": "code",
   "execution_count": 23,
   "id": "290c2516-027d-4201-a4be-bcc42f909b08",
   "metadata": {},
   "outputs": [],
   "source": [
    "from JST_analysis import (\n",
    "    load_income_excel,\n",
    "    save_to_excel,\n",
    "    compare_incomes,\n",
    "    load_population_excel,\n",
    "    population_income_merge,\n",
    "    calculate_JST,\n",
    "    calculate_tax_mean,\n",
    "    calculate_estimates,\n",
    ")\n",
    "\n",
    "import pandas as pd # by wyswietlac dobrze dfy"
   ]
  },
  {
   "cell_type": "code",
   "execution_count": 24,
   "id": "6ead0e33-43f7-492c-ae4e-c8758906793b",
   "metadata": {},
   "outputs": [],
   "source": [
    "pd.set_option('expand_frame_repr', False)"
   ]
  },
  {
   "cell_type": "code",
   "execution_count": 25,
   "id": "4dbfad74-bd67-4461-8e04-00e96f5be087",
   "metadata": {},
   "outputs": [],
   "source": [
    "gminy_2019 = r\"data/2019/20200214_Gminy_za_2019.xlsx\"\n",
    "powiaty_2019 = r\"data/2019/20200214_Powiaty_za_2019.xlsx\"\n",
    "NPP_2019 = r\"data/2019/20200214_Miasta_NPP_za_2019.xlsx\"\n",
    "wojewodztwa_2019 = r\"data/2019/20200214_Wojewodztwa_za_2019.xlsx\"\n",
    "\n",
    "gminy_2020 = r\"data/2020/20210215_Gminy_2_za_2020.xlsx\"\n",
    "powiaty_2020 = r\"data/2020/20210211_Powiaty_za_2020.xlsx\"\n",
    "NPP_2020 = r\"data/2020/20210215_Miasta_NPP_2_za_2020.xlsx\"\n",
    "wojewodztwa_2020 = r\"data/2020/20210211_Województwa_za_2020.xlsx\"\n",
    "\n",
    "populacja_2020 = r\"data/tabela12.xls\""
   ]
  },
  {
   "cell_type": "markdown",
   "id": "3e3850dc-44de-4e21-a183-54d73534ae61",
   "metadata": {},
   "source": [
    "#### Porównanie dochodów JST\n",
    "Porówanie dochodów można uzyskać poprzez wczytanie plików zawierających dochód przy wykorzystaniu funkcji ```load_income(file_path, only_important=False)```, gdzie polecam wybranie ```only_important=True```, co spowoduje ładniejsze przedstawienie danych."
   ]
  },
  {
   "cell_type": "code",
   "execution_count": 26,
   "id": "ed0ca7d1-2f59-438a-9dd9-2d5d2661c0c3",
   "metadata": {},
   "outputs": [],
   "source": [
    "gminy_income_2019 = load_income_excel(file_path=gminy_2019, only_important=True)\n",
    "powiaty_income_2019 = load_income_excel(file_path=powiaty_2019, only_important=True)\n",
    "NPP_income_2019 = load_income_excel(file_path=NPP_2019, only_important=True)\n",
    "wojewodztwa_income_2019 = load_income_excel(file_path=wojewodztwa_2019, only_important=True)\n",
    "\n",
    "gminy_income_2020 = load_income_excel(file_path=gminy_2020, only_important=True)\n",
    "powiaty_income_2020 = load_income_excel(file_path=powiaty_2020, only_important=True)\n",
    "NPP_income_2020 = load_income_excel(file_path=NPP_2020, only_important=True)\n",
    "wojewodztwa_income_2020 = load_income_excel(file_path=wojewodztwa_2020, only_important=True)"
   ]
  },
  {
   "cell_type": "markdown",
   "id": "eba994e1-e5fc-4b95-8d42-4c7d28048e2a",
   "metadata": {},
   "source": [
    "Ważnym elementem dataframe'ów tworzonych z wykorzystaniem funkcji pochodzących z biblioteki ```JST_analysis``` jest posiadanie atrybutów pozwalających innym funkcjom rozpoznać typ dataframe'a i zastosować do niego dodatkowe funkcje, jak na przykład zapisanie w formie pliku Excel raportu z integralnością danych, który tworzony jest w atrybucie ```df.attrs[\"integrity_report\"]``` ."
   ]
  },
  {
   "cell_type": "code",
   "execution_count": 27,
   "id": "1bddebc7-caa3-421c-916f-ba53a8d7089e",
   "metadata": {},
   "outputs": [
    {
     "name": "stdout",
     "output_type": "stream",
     "text": [
      "{'JST_type': 'Gminy', 'year': '2019', 'tax_rate': 0.3934, 'type': 'income_base'}\n"
     ]
    }
   ],
   "source": [
    "print(gminy_income_2019.attrs)"
   ]
  },
  {
   "cell_type": "code",
   "execution_count": 28,
   "id": "76d1be49-142f-4de7-ab05-530b0dee91fb",
   "metadata": {},
   "outputs": [
    {
     "name": "stdout",
     "output_type": "stream",
     "text": [
      "          Kod         Gminy         województwo         powiat  Dochody PIT\n",
      "0     0201011   bolesławiec        dolnośląskie  bolesławiecki  16772887.92\n",
      "1     0201022   bolesławiec        dolnośląskie  bolesławiecki   5523594.07\n",
      "2     0201032      gromadka        dolnośląskie  bolesławiecki   1396512.56\n",
      "3     0201043  nowogrodziec        dolnośląskie  bolesławiecki   3735946.70\n",
      "4     0201052    osiecznica        dolnośląskie  bolesławiecki   2381936.29\n",
      "...       ...           ...                 ...            ...          ...\n",
      "2406  3218013         dobra  zachodniopomorskie        łobeski    808669.11\n",
      "2407  3218023         łobez  zachodniopomorskie        łobeski   3659243.54\n",
      "2408  3218032   radowo małe  zachodniopomorskie        łobeski    674396.97\n",
      "2409  3218043         resko  zachodniopomorskie        łobeski   2642959.94\n",
      "2410  3218053     węgorzyno  zachodniopomorskie        łobeski   1494223.68\n",
      "\n",
      "[2411 rows x 5 columns]\n"
     ]
    }
   ],
   "source": [
    "print(gminy_income_2019)"
   ]
  },
  {
   "cell_type": "markdown",
   "id": "b77fee06-f7d6-452d-b5e8-ba692a838d18",
   "metadata": {},
   "source": [
    "Porównanie dochodów realizowanie jest poprzez funkcję ```compare_income(df1, df2)```, gdzie podanie dataframe'ów o tym samym ```.attrs[\"JST_type\"``` spowoduje stworzenie nowego dataframe'a rozszerzonego o kolumny statystyk porówaniania."
   ]
  },
  {
   "cell_type": "code",
   "execution_count": 29,
   "id": "41047168-14ba-48e2-bbb5-7d5d98ad84a4",
   "metadata": {},
   "outputs": [
    {
     "name": "stdout",
     "output_type": "stream",
     "text": [
      "compare_incomes: Found 15 integrity problems - they were skipped, check them by calling .attrs['integrity_report'] on the dataframe created with compare_incomes() function\n",
      "          Kod         Gminy         województwo         powiat  Dochody w 2019  Dochody w 2020 Różnica 2019/2020[%] Różnica 2019/2020[zł]\n",
      "0     0201011   bolesławiec        dolnośląskie  bolesławiecki     16772887.92     15915665.39                -5.11            -857222.53\n",
      "1     0201022   bolesławiec        dolnośląskie  bolesławiecki      5523594.07      5424872.70                -1.79             -98721.37\n",
      "2     0201032      gromadka        dolnośląskie  bolesławiecki      1396512.56      1405830.64                 0.67               9318.08\n",
      "3     0201043  nowogrodziec        dolnośląskie  bolesławiecki      3735946.70      3758442.89                 0.60              22496.19\n",
      "4     0201052    osiecznica        dolnośląskie  bolesławiecki      2381936.29      2299249.90                -3.47             -82686.39\n",
      "...       ...           ...                 ...            ...             ...             ...                  ...                   ...\n",
      "2406  3218013         dobra  zachodniopomorskie        łobeski       808669.11       790912.60                -2.20             -17756.51\n",
      "2407  3218023         łobez  zachodniopomorskie        łobeski      3659243.54      3475688.61                -5.02            -183554.93\n",
      "2408  3218032   radowo małe  zachodniopomorskie        łobeski       674396.97       608406.08                -9.79             -65990.89\n",
      "2409  3218043         resko  zachodniopomorskie        łobeski      2642959.94      2601200.14                -1.58             -41759.80\n",
      "2410  3218053     węgorzyno  zachodniopomorskie        łobeski      1494223.68      1367672.41                -8.47            -126551.27\n",
      "\n",
      "[2411 rows x 8 columns]\n"
     ]
    }
   ],
   "source": [
    "gminy_income_compare_2019_2020 = compare_incomes(df1=gminy_income_2019, df2=gminy_income_2020)\n",
    "\n",
    "print(gminy_income_compare_2019_2020)"
   ]
  },
  {
   "cell_type": "markdown",
   "id": "caf80a2a-02c6-41df-80c7-b9bee96bdfaa",
   "metadata": {},
   "source": [
    "Przykładowy wygląd raportu integralności, który zapisywany jest w atrybucie oraz podczas zapisywania dataframe'u z porównaniem do pliku Excel."
   ]
  },
  {
   "cell_type": "code",
   "execution_count": 43,
   "id": "edc1772d-6c00-49bf-874c-2b4a42813498",
   "metadata": {},
   "outputs": [
    {
     "name": "stdout",
     "output_type": "stream",
     "text": [
      "          Kod         \n",
      "         2019     2020\n",
      "147   0224032  0224033\n",
      "329   0602062  0602063\n",
      "392   0608052  0608053\n",
      "623   1004062  1004063\n",
      "746   1018042  1018043\n",
      "852   1210023  1210022\n",
      "1014  1409062  1409063\n",
      "1114  1420042  1420043\n",
      "1121  1420112  1420113\n",
      "1255  1438052  1438053\n",
      "1417  1813022  1813023\n",
      "1880  2602092  2602093\n",
      "1934  2609032  2609033\n",
      "2080  3001022  3001023\n",
      "2122  3007052  3007053\n"
     ]
    }
   ],
   "source": [
    "print(gminy_income_compare_2019_2020.attrs['integrity_report'])"
   ]
  },
  {
   "cell_type": "code",
   "execution_count": 30,
   "id": "8228b7fb-f265-490e-80e0-112a90aaf53b",
   "metadata": {},
   "outputs": [
    {
     "name": "stdout",
     "output_type": "stream",
     "text": [
      "     Kod           NPP         województwo powiat  Dochody w 2019  Dochody w 2020 Różnica 2019/2020[%] Różnica 2019/2020[zł]\n",
      "0   0261  jelenia góra        dolnośląskie      -    3.553625e+07    3.443777e+07                -3.09           -1098479.27\n",
      "1   0262       legnica        dolnośląskie      -    4.740745e+07    4.662842e+07                -1.64            -779023.86\n",
      "2   0264       wrocław        dolnośląskie      -    4.890769e+08    4.843599e+08                -0.96           -4717085.90\n",
      "3   0265     wałbrzych        dolnośląskie      -    4.339693e+07    4.103938e+07                -5.43           -2357554.96\n",
      "4   0461     bydgoszcz  kujawsko-pomorskie      -    1.771344e+08    1.706577e+08                -3.66           -6476712.79\n",
      "..   ...           ...                 ...    ...             ...             ...                  ...                   ...\n",
      "61  3063        leszno       wielkopolskie      -    3.666786e+07    3.607175e+07                -1.63            -596109.62\n",
      "62  3064        poznań       wielkopolskie      -    4.048670e+08    3.965671e+08                -2.05           -8299878.73\n",
      "63  3261      koszalin  zachodniopomorskie      -    5.575054e+07    5.532056e+07                -0.77            -429971.76\n",
      "64  3262      szczecin  zachodniopomorskie      -    2.121178e+08    2.061702e+08                -2.80           -5947590.20\n",
      "65  3263   świnoujście  zachodniopomorskie      -    1.834960e+07    1.783118e+07                -2.83            -518413.02\n",
      "\n",
      "[66 rows x 8 columns]\n"
     ]
    }
   ],
   "source": [
    "NPP_income_compare_2019_2020 = compare_incomes(df1=NPP_income_2019, df2=NPP_income_2020)\n",
    "\n",
    "print(NPP_income_compare_2019_2020)"
   ]
  },
  {
   "cell_type": "code",
   "execution_count": 31,
   "id": "3408308b-0c03-46f3-8c3a-9ef6f1c8aa03",
   "metadata": {},
   "outputs": [
    {
     "name": "stdout",
     "output_type": "stream",
     "text": [
      "Empty DataFrame\n",
      "Columns: []\n",
      "Index: []\n"
     ]
    }
   ],
   "source": [
    "print(NPP_income_compare_2019_2020.attrs['integrity_report'])"
   ]
  },
  {
   "cell_type": "markdown",
   "id": "9b496a4e-f0c5-4dae-88f1-980f208790a2",
   "metadata": {},
   "source": [
    "Wywołanie funkcji ```save_to_excel(df, file_path)``` na dowolnym dataframe'ie spowoduje zapisanie go do pliku z określonym rozszerzeniem (WAŻNE: należy podać ścieżkę z rozszerzeniem), w przypadku gdy dataframe posiada atrybut z raportem integralności, będzie on również zapisany w formie osobnego pliku."
   ]
  },
  {
   "cell_type": "code",
   "execution_count": 32,
   "id": "0b4e69df-6d31-4e64-b703-d792d8390856",
   "metadata": {},
   "outputs": [
    {
     "name": "stdout",
     "output_type": "stream",
     "text": [
      "Saved succesfully at data/reports/powiaty_income_comparison_2019_2020.xlsx\n"
     ]
    }
   ],
   "source": [
    "save_to_excel(df=NPP_income_compare_2019_2020, file_path=r\"data/reports/powiaty_income_comparison_2019_2020.xlsx\")"
   ]
  },
  {
   "cell_type": "markdown",
   "id": "6441e943-f152-4d7e-8a0f-d044f3489844",
   "metadata": {},
   "source": [
    "#### Łączenie danych dochodów i populacji\n",
    "Operacje na danych zawierających ludność oraz dochód rozpoczynamy od wykorzystania funkcji ```load_population_excel(file_path)```, która utworzy dataframe z rozbiciem populacji na gminy należące do powiatów, należących do województw."
   ]
  },
  {
   "cell_type": "code",
   "execution_count": 33,
   "id": "6ad36d36-9caa-4b09-b9bc-2113dddaa37c",
   "metadata": {},
   "outputs": [
    {
     "name": "stdout",
     "output_type": "stream",
     "text": [
      "Loading Excel...\n",
      "Creating population dictionary...\n",
      "Cleaning dataframes...\n",
      "Aggregating populations...\n"
     ]
    },
    {
     "name": "stderr",
     "output_type": "stream",
     "text": [
      "100%|██████████████████████████████████████████████████████████████████████████████████| 16/16 [00:02<00:00,  6.68it/s]\n"
     ]
    }
   ],
   "source": [
    "population = load_population_excel(file_path=populacja_2020)"
   ]
  },
  {
   "cell_type": "markdown",
   "id": "7953668d-2c4f-4fd2-8a0f-c0754483ecb9",
   "metadata": {},
   "source": [
    "Następnie należy połączyć go z plikiem dochodów (WAŻNE: ```.attrs[\"JST_type\"]``` musi być \"Gminy\", by uniknąć problemów z łączeniem), niezależnie od poziomu JST, który chcemy analizować później - jest to podstawa.  "
   ]
  },
  {
   "cell_type": "code",
   "execution_count": 34,
   "id": "4ccea87a-4911-4303-a945-f9274db3c39a",
   "metadata": {},
   "outputs": [
    {
     "name": "stdout",
     "output_type": "stream",
     "text": [
      "merge: Found 199 integrity problems - they were skipped, check them by calling .attrs['integrity_report'] on the dataframe created with population_income_merge() function\n",
      "          Kod         Gminy         województwo         powiat  Dochody PIT  Populacja\n",
      "0     0201011   bolesławiec        dolnośląskie  bolesławiecki  15915665.39    25823.7\n",
      "1     0201022   bolesławiec        dolnośląskie  bolesławiecki   5424872.70     9388.8\n",
      "2     0201032      gromadka        dolnośląskie  bolesławiecki   1405830.64     3441.6\n",
      "3     0201043  nowogrodziec        dolnośląskie  bolesławiecki   3758442.89     9554.4\n",
      "4     0201052    osiecznica        dolnośląskie  bolesławiecki   2299249.90     4541.4\n",
      "...       ...           ...                 ...            ...          ...        ...\n",
      "2406  3218013         dobra  zachodniopomorskie        łobeski    790912.60     2771.1\n",
      "2407  3218023         łobez  zachodniopomorskie        łobeski   3475688.61     9034.2\n",
      "2408  3218032   radowo małe  zachodniopomorskie        łobeski    608406.08     2262.6\n",
      "2409  3218043         resko  zachodniopomorskie        łobeski   2601200.14     5010.3\n",
      "2410  3218053     węgorzyno  zachodniopomorskie        łobeski   1367672.41     4385.7\n",
      "\n",
      "[2212 rows x 6 columns]\n"
     ]
    }
   ],
   "source": [
    "income_population = population_income_merge(gmina_income_df=gminy_income_2020, populations_df=population)\n",
    "\n",
    "print(income_population)"
   ]
  },
  {
   "cell_type": "markdown",
   "id": "cca8f17a-e05e-4b54-b213-16dd4a5a04e7",
   "metadata": {},
   "source": [
    "#### Średni dochód opodatkowany\n",
    "W celu obliczenia średniego dochodu opodatkowanego dla gmin, należy wywołać funkcję ```calculate_tax_mean(df)```, która spowoduje rozszerzenie obecnego dataframe'a o kolumnę ze średnim dochodem."
   ]
  },
  {
   "cell_type": "code",
   "execution_count": 35,
   "id": "9d15888a-ba15-4cc1-9c83-9a93f1d4e4e8",
   "metadata": {},
   "outputs": [
    {
     "name": "stdout",
     "output_type": "stream",
     "text": [
      "          Kod         Gminy         województwo         powiat  Dochody PIT  Populacja  Średni dochód opodatkowany\n",
      "0     0201011   bolesławiec        dolnośląskie  bolesławiecki  15915665.39    25823.7                  616.320101\n",
      "1     0201022   bolesławiec        dolnośląskie  bolesławiecki   5424872.70     9388.8                  577.802563\n",
      "2     0201032      gromadka        dolnośląskie  bolesławiecki   1405830.64     3441.6                  408.481706\n",
      "3     0201043  nowogrodziec        dolnośląskie  bolesławiecki   3758442.89     9554.4                  393.372989\n",
      "4     0201052    osiecznica        dolnośląskie  bolesławiecki   2299249.90     4541.4                  506.286586\n",
      "...       ...           ...                 ...            ...          ...        ...                         ...\n",
      "2406  3218013         dobra  zachodniopomorskie        łobeski    790912.60     2771.1                  285.414673\n",
      "2407  3218023         łobez  zachodniopomorskie        łobeski   3475688.61     9034.2                  384.725666\n",
      "2408  3218032   radowo małe  zachodniopomorskie        łobeski    608406.08     2262.6                  268.896880\n",
      "2409  3218043         resko  zachodniopomorskie        łobeski   2601200.14     5010.3                  519.170537\n",
      "2410  3218053     węgorzyno  zachodniopomorskie        łobeski   1367672.41     4385.7                  311.848145\n",
      "\n",
      "[2212 rows x 7 columns]\n"
     ]
    }
   ],
   "source": [
    "income_population_mean = calculate_tax_mean(df=income_population)\n",
    "\n",
    "print(income_population_mean)"
   ]
  },
  {
   "cell_type": "markdown",
   "id": "8874eefa-2ff9-44c6-abbb-ddaad6c81a9c",
   "metadata": {},
   "source": [
    "#### Średnia i wariancja\n",
    "Otrzymujemy ją poprzez wywołanie funkcji ```calculate_JST(df, JST_type)```, gdzie dataframe bazowy dla operacji na ludności/dochodzie, czyli podobnie jak wcześniej - ten utworzony z ```population_income_merge(gmina_income_df, population_df)```."
   ]
  },
  {
   "cell_type": "code",
   "execution_count": 36,
   "id": "86d00c1d-70d0-4fa1-91f9-8b0a20f21dca",
   "metadata": {},
   "outputs": [
    {
     "name": "stdout",
     "output_type": "stream",
     "text": [
      "                Wariancja dochodu opodatkowanego  Średni dochód opodatkowany\n",
      "powiat                                                                      \n",
      "aleksandrowski                      1.976154e+12                1.657515e+06\n",
      "augustowski                         1.798471e+13                2.349241e+06\n",
      "bartoszycki                         6.336526e+12                2.285536e+06\n",
      "bełchatowski                        1.041405e+14                6.499756e+06\n",
      "bialski                             1.493036e+12                1.220329e+06\n",
      "...                                          ...                         ...\n",
      "żagański                            9.359239e+12                2.569442e+06\n",
      "żarski                              1.974467e+13                3.206089e+06\n",
      "żniński                             4.746912e+12                3.126159e+06\n",
      "żuromiński                          1.841097e+12                1.489764e+06\n",
      "żyrardowski                         5.255693e+13                7.357258e+06\n",
      "\n",
      "[288 rows x 2 columns]\n"
     ]
    }
   ],
   "source": [
    "powiat_statistics = calculate_JST(df=income_population, JST_type=\"powiat\")\n",
    "\n",
    "print(powiat_statistics)"
   ]
  },
  {
   "cell_type": "code",
   "execution_count": 37,
   "id": "6d46f85b-3ae1-4c25-89fb-2a2e81577555",
   "metadata": {},
   "outputs": [
    {
     "name": "stdout",
     "output_type": "stream",
     "text": [
      "                     Wariancja dochodu opodatkowanego  Średni dochód opodatkowany\n",
      "województwo                                                                      \n",
      "dolnośląskie                             4.334106e+14                2.939891e+07\n",
      "kujawsko-pomorskie                       2.204236e+14                2.133818e+07\n",
      "lubelskie                                9.791701e+13                1.915197e+07\n",
      "lubuskie                                 4.000509e+13                1.949002e+07\n",
      "mazowieckie                              1.649736e+15                3.902057e+07\n",
      "małopolskie                              9.158369e+14                4.314544e+07\n",
      "opolskie                                 1.183996e+14                2.332038e+07\n",
      "podkarpackie                             1.655835e+14                2.166288e+07\n",
      "podlaskie                                1.448777e+14                1.316453e+07\n",
      "pomorskie                                4.371340e+14                3.363892e+07\n",
      "warmińsko-mazurskie                      8.926595e+13                1.616002e+07\n",
      "wielkopolskie                            1.922263e+15                3.437819e+07\n",
      "zachodniopomorskie                       7.415482e+13                1.832842e+07\n",
      "łódzkie                                  2.543219e+14                2.787571e+07\n",
      "świętokrzyskie                           2.140242e+14                2.134099e+07\n"
     ]
    }
   ],
   "source": [
    "wojewodztwo_statistics = calculate_JST(df=income_population, JST_type=\"województwo\")\n",
    "\n",
    "print(wojewodztwo_statistics)"
   ]
  },
  {
   "cell_type": "code",
   "execution_count": 38,
   "id": "31877be2-1a7f-4644-a873-aa6fc19e2876",
   "metadata": {},
   "outputs": [
    {
     "name": "stdout",
     "output_type": "stream",
     "text": [
      "Saved succesfully at data/reports/wojewodztwo_statistics.xlsx\n"
     ]
    }
   ],
   "source": [
    "save_to_excel(df=powiat_statistics, file_path=r\"data/reports/wojewodztwo_statistics.xlsx\")"
   ]
  },
  {
   "cell_type": "markdown",
   "id": "70eed531-8fdc-42ae-aa4f-2f9823730bea",
   "metadata": {},
   "source": [
    "#### Estymaty\n",
    "Estymaty otrzymujemy przez podanie dataframe bazowy dla operacji dochód/populacja, dochodów oraz wybranie poziomu JST dla, którego chcemy je uzyskać."
   ]
  },
  {
   "cell_type": "code",
   "execution_count": 39,
   "id": "e35c9b30-dbb8-4123-bb70-471e28735a2f",
   "metadata": {},
   "outputs": [
    {
     "name": "stdout",
     "output_type": "stream",
     "text": [
      "estimates: Found 18 integrity problems - they were skipped, check them by calling .attrs['integrity_report'] on the dataframe created with calculate_estimates() function\n",
      "      Kod         Powiaty         województwo  Dochody PIT  Estymata dochodu PIT  Pomyłka Estymata/Dochód\n",
      "0    0201   bolesławiecki        dolnośląskie   2180844.63          9.035132e+06             6.854287e+06\n",
      "1    0202  dzierżoniowski        dolnośląskie   2186190.93          7.156400e+06             4.970209e+06\n",
      "2    0203       głogowski        dolnośląskie   2963921.67          2.529610e+07             2.233218e+07\n",
      "3    0204        górowski        dolnośląskie    582416.89          3.459999e+06             2.877583e+06\n",
      "4    0205        jaworski        dolnośląskie   1071205.26          4.662434e+06             3.591229e+06\n",
      "..    ...             ...                 ...          ...                   ...                      ...\n",
      "309  3214     stargardzki  zachodniopomorskie   2849690.55          1.647944e+07             1.362975e+07\n",
      "310  3215    szczecinecki  zachodniopomorskie   1565927.86          7.522940e+06             5.957012e+06\n",
      "311  3216      świdwiński  zachodniopomorskie    885733.66          3.421388e+06             2.535654e+06\n",
      "312  3217         wałecki  zachodniopomorskie   1120472.80          5.436011e+06             4.315538e+06\n",
      "313  3218         łobeski  zachodniopomorskie    618939.18          2.301379e+06             1.682440e+06\n",
      "\n",
      "[296 rows x 6 columns]\n"
     ]
    }
   ],
   "source": [
    "powiat_estimates = calculate_estimates(df_income_population=income_population, df_income=powiaty_income_2020, JST_level=\"powiat\")\n",
    "\n",
    "print(powiat_estimates)"
   ]
  },
  {
   "cell_type": "code",
   "execution_count": 40,
   "id": "b3b2fa47-3bf7-4a38-96ed-f2e2d7222b90",
   "metadata": {},
   "outputs": [
    {
     "name": "stdout",
     "output_type": "stream",
     "text": [
      "estimates: Found 1 integrity problems - they were skipped, check them by calling .attrs['integrity_report'] on the dataframe created with calculate_estimates() function\n",
      "   Kod          Województwa powiat  Dochody PIT  Estymata dochodu PIT  Pomyłka Estymata/Dochód\n",
      "0   02         dolnośląskie      -   2300594.34          9.803795e+06             7.503201e+06\n",
      "1   04   kujawsko-pomorskie      -   1247015.17          5.705343e+06             4.458328e+06\n",
      "2   06            lubelskie      -   1043651.36          3.878908e+06             2.835257e+06\n",
      "3   08             lubuskie      -    622331.70          5.401988e+06             4.779657e+06\n",
      "4   10              łódzkie      -   1710839.86          9.025769e+06             7.314929e+06\n",
      "5   12          małopolskie      -   2476311.15          7.994579e+06             5.518268e+06\n",
      "6   14          mazowieckie      -   6083635.79          1.225922e+07             6.175582e+06\n",
      "7   16             opolskie      -    578928.67          7.407787e+06             6.828858e+06\n",
      "8   18         podkarpackie      -   1050915.90          5.791600e+06             4.740684e+06\n",
      "9   20            podlaskie      -    652149.94          3.313341e+06             2.661191e+06\n",
      "10  22            pomorskie      -   1781128.48          9.171491e+06             7.390362e+06\n",
      "12  26       świętokrzyskie      -    642131.81          6.424586e+06             5.782455e+06\n",
      "13  28  warmińsko-mazurskie      -    757506.32          5.190644e+06             4.433138e+06\n",
      "14  30        wielkopolskie      -   2662317.39          1.003189e+07             7.369569e+06\n",
      "15  32   zachodniopomorskie      -   1082834.77          7.152196e+06             6.069361e+06\n"
     ]
    }
   ],
   "source": [
    "wojewodztwo_estimates = calculate_estimates(df_income_population=income_population, df_income=wojewodztwa_income_2020, JST_level=\"województwo\")\n",
    "\n",
    "print(wojewodztwo_estimates)"
   ]
  },
  {
   "cell_type": "code",
   "execution_count": 41,
   "id": "66c82d08-d085-4f93-8a23-57a3787eeff4",
   "metadata": {},
   "outputs": [
    {
     "data": {
      "text/plain": [
       "{'integrity_report':       Kod                     Powiaty    województwo powiat_x  Dochody PIT powiat_y   0     _merge\n",
       " 5    0206  karkonoski (jeleniogórski)   dolnośląskie        -   1583042.90      NaN NaN  left_only\n",
       " 216  2401                   będziński        śląskie        -   4940722.22      NaN NaN  left_only\n",
       " 218  2403                  cieszyński        śląskie        -   4955579.49      NaN NaN  left_only\n",
       " 219  2404               częstochowski        śląskie        -   3393067.44      NaN NaN  left_only\n",
       " 220  2405                    gliwicki        śląskie        -   3639864.38      NaN NaN  left_only\n",
       " 221  2406                    kłobucki        śląskie        -   2247392.14      NaN NaN  left_only\n",
       " 222  2407                 lubliniecki        śląskie        -   1915457.58      NaN NaN  left_only\n",
       " 223  2408                  mikołowski        śląskie        -   3817797.92      NaN NaN  left_only\n",
       " 224  2409                  myszkowski        śląskie        -   1894657.15      NaN NaN  left_only\n",
       " 225  2410                  pszczyński        śląskie        -   3668096.88      NaN NaN  left_only\n",
       " 226  2411                  raciborski        śląskie        -   2437702.15      NaN NaN  left_only\n",
       " 227  2412                    rybnicki        śląskie        -   2322136.17      NaN NaN  left_only\n",
       " 228  2413                 tarnogórski        śląskie        -   4621306.18      NaN NaN  left_only\n",
       " 229  2414         bieruńsko-lędziński        śląskie        -   2079238.53      NaN NaN  left_only\n",
       " 230  2415                wodzisławski        śląskie        -   4491309.94      NaN NaN  left_only\n",
       " 231  2416               zawierciański        śląskie        -   3119665.19      NaN NaN  left_only\n",
       " 232  2417                    żywiecki        śląskie        -   3636954.10      NaN NaN  left_only\n",
       " 292  3028                 wągrowiecki  wielkopolskie        -   1389434.75      NaN NaN  left_only,\n",
       " 'type': 'estimates'}"
      ]
     },
     "execution_count": 41,
     "metadata": {},
     "output_type": "execute_result"
    }
   ],
   "source": [
    "powiat_estimates.attrs"
   ]
  },
  {
   "cell_type": "code",
   "execution_count": 42,
   "id": "d51d2d8c-0101-40ed-b016-465d11b7e1bf",
   "metadata": {},
   "outputs": [
    {
     "name": "stdout",
     "output_type": "stream",
     "text": [
      "Saved succesfully at data/reports/powiat_estimates.xlsx\n",
      "Integrity check skipped-report saved at data/reports/powiat_estimates_skipped_estimates.xlsx\n"
     ]
    }
   ],
   "source": [
    "save_to_excel(df=powiat_estimates, file_path=r\"data/reports/powiat_estimates.xlsx\")"
   ]
  },
  {
   "cell_type": "markdown",
   "id": "fb7c0d26-fea1-4423-94be-93bdd86e79a0",
   "metadata": {},
   "source": [
    "#### Testowanie\n",
    "Wszystkie testy można włączyć jednocześnie wywołując z poziomu repozytorium ```python -m unittest```. Poziom wywołania unittest jest ważny z uwagi na możliwy konflikt ścieżek."
   ]
  },
  {
   "cell_type": "markdown",
   "id": "66761f67-68f5-4810-bb66-2fa194def0f8",
   "metadata": {},
   "source": [
    "#### Profilowanie\n",
    "Uzyskano przez wywołanie funkcji:\n",
    "```\n",
    "python -m cProfile -s tottime tests/main_routine.py > ./examples/profiler.txt\n",
    "```\n",
    "\n",
    "Po analizie wyników profilowania można zauważyć, że zdecydowana większość czasu została stracona przez funkcje wczytujące pliki Excelowe z biblioteki pandas. Rozwiązaniem byłoby znalezienie biblioteki specjalizującej się w efektywnym czasowo wczytywaniu i potencjalnie przechowywania lub początkowe przetwarzanie danych w innym formacie plików. W przypadku częstego wykorzystywania biblioteki na tych samych danych można pokusić się o skorzyst "
   ]
  }
 ],
 "metadata": {
  "kernelspec": {
   "display_name": "Python 3 (ipykernel)",
   "language": "python",
   "name": "python3"
  },
  "language_info": {
   "codemirror_mode": {
    "name": "ipython",
    "version": 3
   },
   "file_extension": ".py",
   "mimetype": "text/x-python",
   "name": "python",
   "nbconvert_exporter": "python",
   "pygments_lexer": "ipython3",
   "version": "3.9.7"
  }
 },
 "nbformat": 4,
 "nbformat_minor": 5
}
